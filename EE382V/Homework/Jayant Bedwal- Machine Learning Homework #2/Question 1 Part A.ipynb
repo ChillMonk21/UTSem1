{
 "cells": [
  {
   "cell_type": "code",
   "execution_count": 1,
   "metadata": {
    "collapsed": true
   },
   "outputs": [],
   "source": [
    "import pandas as pd"
   ]
  },
  {
   "cell_type": "code",
   "execution_count": 2,
   "metadata": {
    "collapsed": true
   },
   "outputs": [],
   "source": [
    "import seaborn as sns"
   ]
  },
  {
   "cell_type": "code",
   "execution_count": 3,
   "metadata": {
    "collapsed": true
   },
   "outputs": [],
   "source": [
    "import numpy as np"
   ]
  },
  {
   "cell_type": "code",
   "execution_count": 4,
   "metadata": {
    "collapsed": true
   },
   "outputs": [],
   "source": [
    "import matplotlib.pyplot as plt"
   ]
  },
  {
   "cell_type": "code",
   "execution_count": 5,
   "metadata": {
    "collapsed": true
   },
   "outputs": [],
   "source": [
    "data = pd.read_csv(\"q1_data_label.csv\")"
   ]
  },
  {
   "cell_type": "code",
   "execution_count": 6,
   "metadata": {
    "collapsed": true
   },
   "outputs": [],
   "source": [
    "features_to_plot = ['x', 'y', 'c']"
   ]
  },
  {
   "cell_type": "code",
   "execution_count": 7,
   "metadata": {
    "collapsed": true
   },
   "outputs": [],
   "source": [
    "df_to_plot = data.ix[::,features_to_plot]"
   ]
  },
  {
   "cell_type": "code",
   "execution_count": 8,
   "metadata": {
    "collapsed": false
   },
   "outputs": [
    {
     "data": {
      "text/html": [
       "<div>\n",
       "<table border=\"1\" class=\"dataframe\">\n",
       "  <thead>\n",
       "    <tr style=\"text-align: right;\">\n",
       "      <th></th>\n",
       "      <th>x</th>\n",
       "      <th>y</th>\n",
       "      <th>c</th>\n",
       "    </tr>\n",
       "  </thead>\n",
       "  <tbody>\n",
       "    <tr>\n",
       "      <th>0</th>\n",
       "      <td>8.940000e-01</td>\n",
       "      <td>0.4480</td>\n",
       "      <td>0.0</td>\n",
       "    </tr>\n",
       "    <tr>\n",
       "      <th>1</th>\n",
       "      <td>-7.640000e-01</td>\n",
       "      <td>0.2380</td>\n",
       "      <td>1.0</td>\n",
       "    </tr>\n",
       "    <tr>\n",
       "      <th>2</th>\n",
       "      <td>-2.850000e-01</td>\n",
       "      <td>-0.7470</td>\n",
       "      <td>1.0</td>\n",
       "    </tr>\n",
       "    <tr>\n",
       "      <th>3</th>\n",
       "      <td>-8.440000e-01</td>\n",
       "      <td>-0.5360</td>\n",
       "      <td>0.0</td>\n",
       "    </tr>\n",
       "    <tr>\n",
       "      <th>4</th>\n",
       "      <td>4.620000e-01</td>\n",
       "      <td>-0.6530</td>\n",
       "      <td>1.0</td>\n",
       "    </tr>\n",
       "    <tr>\n",
       "      <th>5</th>\n",
       "      <td>-3.220000e-01</td>\n",
       "      <td>0.7320</td>\n",
       "      <td>1.0</td>\n",
       "    </tr>\n",
       "    <tr>\n",
       "      <th>6</th>\n",
       "      <td>-5.250000e-01</td>\n",
       "      <td>0.6030</td>\n",
       "      <td>1.0</td>\n",
       "    </tr>\n",
       "    <tr>\n",
       "      <th>7</th>\n",
       "      <td>-8.990000e-01</td>\n",
       "      <td>-0.4370</td>\n",
       "      <td>0.0</td>\n",
       "    </tr>\n",
       "    <tr>\n",
       "      <th>8</th>\n",
       "      <td>5.020000e-02</td>\n",
       "      <td>-0.7980</td>\n",
       "      <td>1.0</td>\n",
       "    </tr>\n",
       "    <tr>\n",
       "      <th>9</th>\n",
       "      <td>-9.620000e-01</td>\n",
       "      <td>-0.2730</td>\n",
       "      <td>0.0</td>\n",
       "    </tr>\n",
       "    <tr>\n",
       "      <th>10</th>\n",
       "      <td>-1.500000e-01</td>\n",
       "      <td>0.9890</td>\n",
       "      <td>0.0</td>\n",
       "    </tr>\n",
       "    <tr>\n",
       "      <th>11</th>\n",
       "      <td>6.700000e-01</td>\n",
       "      <td>-0.4370</td>\n",
       "      <td>1.0</td>\n",
       "    </tr>\n",
       "    <tr>\n",
       "      <th>12</th>\n",
       "      <td>7.860000e-01</td>\n",
       "      <td>0.1500</td>\n",
       "      <td>1.0</td>\n",
       "    </tr>\n",
       "    <tr>\n",
       "      <th>13</th>\n",
       "      <td>-7.110000e-01</td>\n",
       "      <td>-0.3680</td>\n",
       "      <td>1.0</td>\n",
       "    </tr>\n",
       "    <tr>\n",
       "      <th>14</th>\n",
       "      <td>-1.500000e-01</td>\n",
       "      <td>-0.7860</td>\n",
       "      <td>1.0</td>\n",
       "    </tr>\n",
       "    <tr>\n",
       "      <th>15</th>\n",
       "      <td>-1.500000e-01</td>\n",
       "      <td>0.7860</td>\n",
       "      <td>1.0</td>\n",
       "    </tr>\n",
       "    <tr>\n",
       "      <th>16</th>\n",
       "      <td>-7.890000e-01</td>\n",
       "      <td>0.1300</td>\n",
       "      <td>1.0</td>\n",
       "    </tr>\n",
       "    <tr>\n",
       "      <th>17</th>\n",
       "      <td>-5.330000e-01</td>\n",
       "      <td>0.5970</td>\n",
       "      <td>1.0</td>\n",
       "    </tr>\n",
       "    <tr>\n",
       "      <th>18</th>\n",
       "      <td>4.480000e-01</td>\n",
       "      <td>-0.8940</td>\n",
       "      <td>0.0</td>\n",
       "    </tr>\n",
       "    <tr>\n",
       "      <th>19</th>\n",
       "      <td>6.280000e-01</td>\n",
       "      <td>0.7780</td>\n",
       "      <td>0.0</td>\n",
       "    </tr>\n",
       "    <tr>\n",
       "      <th>20</th>\n",
       "      <td>-8.940000e-01</td>\n",
       "      <td>0.4480</td>\n",
       "      <td>0.0</td>\n",
       "    </tr>\n",
       "    <tr>\n",
       "      <th>21</th>\n",
       "      <td>6.660000e-01</td>\n",
       "      <td>0.7460</td>\n",
       "      <td>0.0</td>\n",
       "    </tr>\n",
       "    <tr>\n",
       "      <th>22</th>\n",
       "      <td>-9.720000e-01</td>\n",
       "      <td>0.2360</td>\n",
       "      <td>0.0</td>\n",
       "    </tr>\n",
       "    <tr>\n",
       "      <th>23</th>\n",
       "      <td>-1.890000e-01</td>\n",
       "      <td>-0.7770</td>\n",
       "      <td>1.0</td>\n",
       "    </tr>\n",
       "    <tr>\n",
       "      <th>24</th>\n",
       "      <td>-7.860000e-01</td>\n",
       "      <td>0.6180</td>\n",
       "      <td>0.0</td>\n",
       "    </tr>\n",
       "    <tr>\n",
       "      <th>25</th>\n",
       "      <td>-1.400000e-01</td>\n",
       "      <td>0.7880</td>\n",
       "      <td>1.0</td>\n",
       "    </tr>\n",
       "    <tr>\n",
       "      <th>26</th>\n",
       "      <td>1.260000e-02</td>\n",
       "      <td>-1.0000</td>\n",
       "      <td>0.0</td>\n",
       "    </tr>\n",
       "    <tr>\n",
       "      <th>27</th>\n",
       "      <td>-7.460000e-01</td>\n",
       "      <td>0.6660</td>\n",
       "      <td>0.0</td>\n",
       "    </tr>\n",
       "    <tr>\n",
       "      <th>28</th>\n",
       "      <td>3.210000e-01</td>\n",
       "      <td>0.9470</td>\n",
       "      <td>0.0</td>\n",
       "    </tr>\n",
       "    <tr>\n",
       "      <th>29</th>\n",
       "      <td>-4.940000e-01</td>\n",
       "      <td>0.6290</td>\n",
       "      <td>1.0</td>\n",
       "    </tr>\n",
       "    <tr>\n",
       "      <th>...</th>\n",
       "      <td>...</td>\n",
       "      <td>...</td>\n",
       "      <td>...</td>\n",
       "    </tr>\n",
       "    <tr>\n",
       "      <th>970</th>\n",
       "      <td>8.020000e-01</td>\n",
       "      <td>0.5980</td>\n",
       "      <td>0.0</td>\n",
       "    </tr>\n",
       "    <tr>\n",
       "      <th>971</th>\n",
       "      <td>-1.470000e-16</td>\n",
       "      <td>-0.8000</td>\n",
       "      <td>1.0</td>\n",
       "    </tr>\n",
       "    <tr>\n",
       "      <th>972</th>\n",
       "      <td>5.690000e-01</td>\n",
       "      <td>-0.5620</td>\n",
       "      <td>1.0</td>\n",
       "    </tr>\n",
       "    <tr>\n",
       "      <th>973</th>\n",
       "      <td>-7.700000e-01</td>\n",
       "      <td>-0.2180</td>\n",
       "      <td>1.0</td>\n",
       "    </tr>\n",
       "    <tr>\n",
       "      <th>974</th>\n",
       "      <td>2.850000e-01</td>\n",
       "      <td>0.9590</td>\n",
       "      <td>0.0</td>\n",
       "    </tr>\n",
       "    <tr>\n",
       "      <th>975</th>\n",
       "      <td>-7.710000e-01</td>\n",
       "      <td>0.6370</td>\n",
       "      <td>0.0</td>\n",
       "    </tr>\n",
       "    <tr>\n",
       "      <th>976</th>\n",
       "      <td>-5.020000e-01</td>\n",
       "      <td>0.6230</td>\n",
       "      <td>1.0</td>\n",
       "    </tr>\n",
       "    <tr>\n",
       "      <th>977</th>\n",
       "      <td>-6.160000e-01</td>\n",
       "      <td>-0.5100</td>\n",
       "      <td>1.0</td>\n",
       "    </tr>\n",
       "    <tr>\n",
       "      <th>978</th>\n",
       "      <td>-3.020000e-02</td>\n",
       "      <td>0.7990</td>\n",
       "      <td>1.0</td>\n",
       "    </tr>\n",
       "    <tr>\n",
       "      <th>979</th>\n",
       "      <td>1.260000e-02</td>\n",
       "      <td>1.0000</td>\n",
       "      <td>0.0</td>\n",
       "    </tr>\n",
       "    <tr>\n",
       "      <th>980</th>\n",
       "      <td>3.560000e-01</td>\n",
       "      <td>-0.9340</td>\n",
       "      <td>0.0</td>\n",
       "    </tr>\n",
       "    <tr>\n",
       "      <th>981</th>\n",
       "      <td>-7.750000e-01</td>\n",
       "      <td>0.1990</td>\n",
       "      <td>1.0</td>\n",
       "    </tr>\n",
       "    <tr>\n",
       "      <th>982</th>\n",
       "      <td>-8.940000e-01</td>\n",
       "      <td>-0.4480</td>\n",
       "      <td>0.0</td>\n",
       "    </tr>\n",
       "    <tr>\n",
       "      <th>983</th>\n",
       "      <td>-4.200000e-01</td>\n",
       "      <td>-0.6810</td>\n",
       "      <td>1.0</td>\n",
       "    </tr>\n",
       "    <tr>\n",
       "      <th>984</th>\n",
       "      <td>8.310000e-01</td>\n",
       "      <td>0.5570</td>\n",
       "      <td>0.0</td>\n",
       "    </tr>\n",
       "    <tr>\n",
       "      <th>985</th>\n",
       "      <td>-7.610000e-01</td>\n",
       "      <td>0.2470</td>\n",
       "      <td>1.0</td>\n",
       "    </tr>\n",
       "    <tr>\n",
       "      <th>986</th>\n",
       "      <td>3.680000e-01</td>\n",
       "      <td>0.7110</td>\n",
       "      <td>1.0</td>\n",
       "    </tr>\n",
       "    <tr>\n",
       "      <th>987</th>\n",
       "      <td>1.790000e-01</td>\n",
       "      <td>0.7800</td>\n",
       "      <td>1.0</td>\n",
       "    </tr>\n",
       "    <tr>\n",
       "      <th>988</th>\n",
       "      <td>6.660000e-01</td>\n",
       "      <td>-0.7460</td>\n",
       "      <td>0.0</td>\n",
       "    </tr>\n",
       "    <tr>\n",
       "      <th>989</th>\n",
       "      <td>-4.620000e-01</td>\n",
       "      <td>0.6530</td>\n",
       "      <td>1.0</td>\n",
       "    </tr>\n",
       "    <tr>\n",
       "      <th>990</th>\n",
       "      <td>-9.870000e-01</td>\n",
       "      <td>-0.1630</td>\n",
       "      <td>0.0</td>\n",
       "    </tr>\n",
       "    <tr>\n",
       "      <th>991</th>\n",
       "      <td>-1.870000e-01</td>\n",
       "      <td>-0.9820</td>\n",
       "      <td>0.0</td>\n",
       "    </tr>\n",
       "    <tr>\n",
       "      <th>992</th>\n",
       "      <td>5.880000e-01</td>\n",
       "      <td>0.8090</td>\n",
       "      <td>0.0</td>\n",
       "    </tr>\n",
       "    <tr>\n",
       "      <th>993</th>\n",
       "      <td>9.100000e-01</td>\n",
       "      <td>-0.4140</td>\n",
       "      <td>0.0</td>\n",
       "    </tr>\n",
       "    <tr>\n",
       "      <th>994</th>\n",
       "      <td>-8.160000e-01</td>\n",
       "      <td>-0.5780</td>\n",
       "      <td>0.0</td>\n",
       "    </tr>\n",
       "    <tr>\n",
       "      <th>995</th>\n",
       "      <td>7.280000e-01</td>\n",
       "      <td>0.3320</td>\n",
       "      <td>1.0</td>\n",
       "    </tr>\n",
       "    <tr>\n",
       "      <th>996</th>\n",
       "      <td>3.940000e-01</td>\n",
       "      <td>0.6960</td>\n",
       "      <td>1.0</td>\n",
       "    </tr>\n",
       "    <tr>\n",
       "      <th>997</th>\n",
       "      <td>9.960000e-01</td>\n",
       "      <td>-0.0879</td>\n",
       "      <td>0.0</td>\n",
       "    </tr>\n",
       "    <tr>\n",
       "      <th>998</th>\n",
       "      <td>7.540000e-01</td>\n",
       "      <td>0.2660</td>\n",
       "      <td>1.0</td>\n",
       "    </tr>\n",
       "    <tr>\n",
       "      <th>999</th>\n",
       "      <td>-5.140000e-01</td>\n",
       "      <td>0.8580</td>\n",
       "      <td>0.0</td>\n",
       "    </tr>\n",
       "  </tbody>\n",
       "</table>\n",
       "<p>1000 rows × 3 columns</p>\n",
       "</div>"
      ],
      "text/plain": [
       "                x       y    c\n",
       "0    8.940000e-01  0.4480  0.0\n",
       "1   -7.640000e-01  0.2380  1.0\n",
       "2   -2.850000e-01 -0.7470  1.0\n",
       "3   -8.440000e-01 -0.5360  0.0\n",
       "4    4.620000e-01 -0.6530  1.0\n",
       "5   -3.220000e-01  0.7320  1.0\n",
       "6   -5.250000e-01  0.6030  1.0\n",
       "7   -8.990000e-01 -0.4370  0.0\n",
       "8    5.020000e-02 -0.7980  1.0\n",
       "9   -9.620000e-01 -0.2730  0.0\n",
       "10  -1.500000e-01  0.9890  0.0\n",
       "11   6.700000e-01 -0.4370  1.0\n",
       "12   7.860000e-01  0.1500  1.0\n",
       "13  -7.110000e-01 -0.3680  1.0\n",
       "14  -1.500000e-01 -0.7860  1.0\n",
       "15  -1.500000e-01  0.7860  1.0\n",
       "16  -7.890000e-01  0.1300  1.0\n",
       "17  -5.330000e-01  0.5970  1.0\n",
       "18   4.480000e-01 -0.8940  0.0\n",
       "19   6.280000e-01  0.7780  0.0\n",
       "20  -8.940000e-01  0.4480  0.0\n",
       "21   6.660000e-01  0.7460  0.0\n",
       "22  -9.720000e-01  0.2360  0.0\n",
       "23  -1.890000e-01 -0.7770  1.0\n",
       "24  -7.860000e-01  0.6180  0.0\n",
       "25  -1.400000e-01  0.7880  1.0\n",
       "26   1.260000e-02 -1.0000  0.0\n",
       "27  -7.460000e-01  0.6660  0.0\n",
       "28   3.210000e-01  0.9470  0.0\n",
       "29  -4.940000e-01  0.6290  1.0\n",
       "..            ...     ...  ...\n",
       "970  8.020000e-01  0.5980  0.0\n",
       "971 -1.470000e-16 -0.8000  1.0\n",
       "972  5.690000e-01 -0.5620  1.0\n",
       "973 -7.700000e-01 -0.2180  1.0\n",
       "974  2.850000e-01  0.9590  0.0\n",
       "975 -7.710000e-01  0.6370  0.0\n",
       "976 -5.020000e-01  0.6230  1.0\n",
       "977 -6.160000e-01 -0.5100  1.0\n",
       "978 -3.020000e-02  0.7990  1.0\n",
       "979  1.260000e-02  1.0000  0.0\n",
       "980  3.560000e-01 -0.9340  0.0\n",
       "981 -7.750000e-01  0.1990  1.0\n",
       "982 -8.940000e-01 -0.4480  0.0\n",
       "983 -4.200000e-01 -0.6810  1.0\n",
       "984  8.310000e-01  0.5570  0.0\n",
       "985 -7.610000e-01  0.2470  1.0\n",
       "986  3.680000e-01  0.7110  1.0\n",
       "987  1.790000e-01  0.7800  1.0\n",
       "988  6.660000e-01 -0.7460  0.0\n",
       "989 -4.620000e-01  0.6530  1.0\n",
       "990 -9.870000e-01 -0.1630  0.0\n",
       "991 -1.870000e-01 -0.9820  0.0\n",
       "992  5.880000e-01  0.8090  0.0\n",
       "993  9.100000e-01 -0.4140  0.0\n",
       "994 -8.160000e-01 -0.5780  0.0\n",
       "995  7.280000e-01  0.3320  1.0\n",
       "996  3.940000e-01  0.6960  1.0\n",
       "997  9.960000e-01 -0.0879  0.0\n",
       "998  7.540000e-01  0.2660  1.0\n",
       "999 -5.140000e-01  0.8580  0.0\n",
       "\n",
       "[1000 rows x 3 columns]"
      ]
     },
     "execution_count": 8,
     "metadata": {},
     "output_type": "execute_result"
    }
   ],
   "source": [
    "df_to_plot"
   ]
  },
  {
   "cell_type": "code",
   "execution_count": 9,
   "metadata": {
    "collapsed": true
   },
   "outputs": [],
   "source": [
    "%matplotlib inline"
   ]
  },
  {
   "cell_type": "code",
   "execution_count": 10,
   "metadata": {
    "collapsed": false
   },
   "outputs": [
    {
     "data": {
      "text/plain": [
       "<seaborn.axisgrid.PairGrid at 0x116e033c8>"
      ]
     },
     "execution_count": 10,
     "metadata": {},
     "output_type": "execute_result"
    },
    {
     "data": {
      "image/png": "[encoded data removed]",
      "text/plain": [
       "<matplotlib.figure.Figure at 0x116e33278>"
      ]
     },
     "metadata": {},
     "output_type": "display_data"
    }
   ],
   "source": [
    "sns.pairplot(df_to_plot, hue=\"c\")"
   ]
  },
  {
   "cell_type": "code",
   "execution_count": 11,
   "metadata": {
    "collapsed": false
   },
   "outputs": [],
   "source": [
    "dataset = np.loadtxt(\"q1_data.csv\", delimiter=\",\")"
   ]
  },
  {
   "cell_type": "code",
   "execution_count": 15,
   "metadata": {
    "collapsed": false
   },
   "outputs": [
    {
     "data": {
      "text/plain": [
       "array([[ 0.894 ,  0.448 ,  0.    ],\n",
       "       [-0.764 ,  0.238 ,  1.    ],\n",
       "       [-0.285 , -0.747 ,  1.    ],\n",
       "       ..., \n",
       "       [ 0.996 , -0.0879,  0.    ],\n",
       "       [ 0.754 ,  0.266 ,  1.    ],\n",
       "       [-0.514 ,  0.858 ,  0.    ]])"
      ]
     },
     "execution_count": 15,
     "metadata": {},
     "output_type": "execute_result"
    }
   ],
   "source": [
    "dataset"
   ]
  },
  {
   "cell_type": "code",
   "execution_count": 16,
   "metadata": {
    "collapsed": true
   },
   "outputs": [],
   "source": [
    "%matplotlib inline"
   ]
  },
  {
   "cell_type": "code",
   "execution_count": 17,
   "metadata": {
    "collapsed": false
   },
   "outputs": [
    {
     "data": {
      "text/plain": [
       "<matplotlib.collections.PathCollection at 0x11a327438>"
      ]
     },
     "execution_count": 17,
     "metadata": {},
     "output_type": "execute_result"
    },
    {
     "data": {
      "image/png": "[encoded data removed]",
      "text/plain": [
       "<matplotlib.figure.Figure at 0x11a3137f0>"
      ]
     },
     "metadata": {},
     "output_type": "display_data"
    }
   ],
   "source": [
    "plt.scatter(dataset[:,0],dataset[:,1], c=['blue','green'], s=10)"
   ]
  }
 ],
 "metadata": {
  "anaconda-cloud": {},
  "kernelspec": {
   "display_name": "Python [Root]",
   "language": "python",
   "name": "Python [Root]"
  },
  "language_info": {
   "codemirror_mode": {
    "name": "ipython",
    "version": 3
   },
   "file_extension": ".py",
   "mimetype": "text/x-python",
   "name": "python",
   "nbconvert_exporter": "python",
   "pygments_lexer": "ipython3",
   "version": "3.5.2"
  }
 },
 "nbformat": 4,
 "nbformat_minor": 0
}
